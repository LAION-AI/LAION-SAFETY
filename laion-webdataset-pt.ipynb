{
 "cells": [
  {
   "cell_type": "markdown",
   "id": "fb566193-5405-4dcf-9cef-ae30c5919a4e",
   "metadata": {},
   "source": [
    "## References\n",
    "\n",
    "* https://github.com/webdataset/webdataset-tensorflow/blob/main/resnet-multi.py\n",
    "* https://github.com/LAION-AI/LAION-SAFETY/blob/main/laionsafety.py\n",
    "\n",
    "## Machine used\n",
    "\n",
    "00071-gpu machine on Spell."
   ]
  },
  {
   "cell_type": "code",
   "execution_count": 1,
   "id": "f0fdde1b-12c7-4ae4-a5e4-f30a180c4152",
   "metadata": {},
   "outputs": [],
   "source": [
    "import torch\n",
    "import numpy as np\n",
    "import pprint\n",
    "import webdataset as wds\n",
    "from webdataset import multi\n",
    "import typer\n",
    "\n",
    "import os"
   ]
  },
  {
   "cell_type": "code",
   "execution_count": 2,
   "id": "444a2022-4060-4dbb-97a8-e3f49efd0223",
   "metadata": {},
   "outputs": [],
   "source": [
    "PATH = \"../dataset/{00000..00046}.tar\"\n",
    "BATCH_SIZE = 512"
   ]
  },
  {
   "cell_type": "code",
   "execution_count": 3,
   "id": "51dd32f9-09b7-444c-bc99-4cfe8e19589b",
   "metadata": {},
   "outputs": [],
   "source": [
    "def filter_dataset(item):  # For e.g. C@H which (rarely) has no caption available.\n",
    "    if \"txt\" not in item:\n",
    "        return False\n",
    "    if \"jpg\" not in item:\n",
    "        return False\n",
    "    return True"
   ]
  },
  {
   "cell_type": "code",
   "execution_count": 4,
   "id": "b1deea1a-6a7e-4942-b62e-47821002fa93",
   "metadata": {},
   "outputs": [],
   "source": [
    "dataset = wds.WebDataset(PATH, handler=wds.ignore_and_continue).select(filter_dataset).decode('rgb').to_tuple('jpg', 'txt')\n",
    "dataloader = wds.WebLoader(dataset, shuffle=False, num_workers=os.cpu_count(), batch_size=BATCH_SIZE, prefetch_factor=4*BATCH_SIZE)"
   ]
  },
  {
   "cell_type": "code",
   "execution_count": 5,
   "id": "6dc038ec-ac80-41cf-9c4f-da2a82a98f6c",
   "metadata": {},
   "outputs": [
    {
     "name": "stdout",
     "output_type": "stream",
     "text": [
      "torch.Size([512, 256, 256, 3])\n",
      "512\n"
     ]
    }
   ],
   "source": [
    "for image_batch, caption_batch in dataloader:\n",
    "    print(image_batch.shape)\n",
    "    print(len(caption_batch))\n",
    "    break"
   ]
  },
  {
   "cell_type": "code",
   "execution_count": 6,
   "id": "c78827b6-2450-431c-afa0-53be81c07cf0",
   "metadata": {},
   "outputs": [
    {
     "name": "stdout",
     "output_type": "stream",
     "text": [
      "CPU times: user 1.22 s, sys: 498 ms, total: 1.72 s\n",
      "Wall time: 5.58 s\n"
     ]
    }
   ],
   "source": [
    "%%time\n",
    "\n",
    "# Benchmaring for 10 batches.\n",
    "for i, (batch, label) in enumerate(dataloader):\n",
    "    if i == 10:\n",
    "        break"
   ]
  }
 ],
 "metadata": {
  "environment": {
   "kernel": "python3",
   "name": "tf2-gpu.2-7.m87",
   "type": "gcloud",
   "uri": "gcr.io/deeplearning-platform-release/tf2-gpu.2-7:m87"
  },
  "kernelspec": {
   "display_name": "Python 3 (ipykernel)",
   "language": "python",
   "name": "python3"
  },
  "language_info": {
   "codemirror_mode": {
    "name": "ipython",
    "version": 3
   },
   "file_extension": ".py",
   "mimetype": "text/x-python",
   "name": "python",
   "nbconvert_exporter": "python",
   "pygments_lexer": "ipython3",
   "version": "3.8.0"
  }
 },
 "nbformat": 4,
 "nbformat_minor": 5
}
