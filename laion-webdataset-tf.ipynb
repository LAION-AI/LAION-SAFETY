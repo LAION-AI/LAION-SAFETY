{
 "cells": [
  {
   "cell_type": "markdown",
   "id": "fb566193-5405-4dcf-9cef-ae30c5919a4e",
   "metadata": {},
   "source": [
    "## References\n",
    "\n",
    "* https://github.com/webdataset/webdataset-tensorflow/blob/main/resnet-multi.py\n",
    "* https://github.com/LAION-AI/LAION-SAFETY/blob/main/laionsafety.py\n",
    "\n",
    "## Machine used\n",
    "\n",
    "GCP n1-highmem (16 vCPUs, 104 GB RAM) with Debian 10"
   ]
  },
  {
   "cell_type": "code",
   "execution_count": 1,
   "id": "f0fdde1b-12c7-4ae4-a5e4-f30a180c4152",
   "metadata": {},
   "outputs": [],
   "source": [
    "import tensorflow as tf\n",
    "import numpy as np\n",
    "import pprint\n",
    "import webdataset as wds\n",
    "from webdataset import multi\n",
    "import typer\n",
    "\n",
    "import os"
   ]
  },
  {
   "cell_type": "code",
   "execution_count": 3,
   "id": "444a2022-4060-4dbb-97a8-e3f49efd0223",
   "metadata": {},
   "outputs": [],
   "source": [
    "url = \"http://3080.rom1504.fr/cah/laion400m_porn_data/{00000..00046}.tar\"\n",
    "url = f\"pipe:curl -L -s {url} || true\""
   ]
  },
  {
   "cell_type": "code",
   "execution_count": 4,
   "id": "51dd32f9-09b7-444c-bc99-4cfe8e19589b",
   "metadata": {},
   "outputs": [],
   "source": [
    "def filter_dataset(item):  # For e.g. C@H which (rarely) has no caption available.\n",
    "    if \"txt\" not in item:\n",
    "        return False\n",
    "    if \"jpg\" not in item:\n",
    "        return False\n",
    "    return True"
   ]
  },
  {
   "cell_type": "code",
   "execution_count": 5,
   "id": "b1deea1a-6a7e-4942-b62e-47821002fa93",
   "metadata": {},
   "outputs": [],
   "source": [
    "class ImagenetData:\n",
    "    \"\"\"This class is a convenient placeholder for the dataset-related information.\n",
    "    You could also just define these iterator etc. as global functions.\"\"\"\n",
    "\n",
    "    def __init__(self, url=url):\n",
    "        self.url = url\n",
    "        self.dataset = (\n",
    "            wds.WebDataset(self.url, shardshuffle=True, handler=wds.ignore_and_continue)\n",
    "            .select(filter_dataset)\n",
    "            .decode(\"rgb\")\n",
    "            .to_tuple(\"jpg\", \"txt\")\n",
    "        )\n",
    "        self.loader = multi.MultiLoader(self.dataset, workers=os.cpu_count())\n",
    "\n",
    "    def __iter__(self):\n",
    "        for img, hot in self.loader:\n",
    "            yield img.astype(\"float32\"), np.array(hot).astype(str)\n",
    "\n",
    "    def output_shapes(self):\n",
    "        return ((256, 256, 3), ())\n",
    "\n",
    "    def output_types(self):\n",
    "        return (tf.float32, tf.string)"
   ]
  },
  {
   "cell_type": "code",
   "execution_count": 6,
   "id": "1a201204-c319-422f-8d6c-a658c3bcd350",
   "metadata": {},
   "outputs": [],
   "source": [
    "def resize_images(image_batch, caption_batch):\n",
    "    return tf.image.resize(image_batch, (260, 260), antialias=True), caption_batch"
   ]
  },
  {
   "cell_type": "code",
   "execution_count": 7,
   "id": "4011b920-604e-4e23-b163-7ee8a3e2dbc6",
   "metadata": {},
   "outputs": [
    {
     "name": "stderr",
     "output_type": "stream",
     "text": [
      "2022-01-08 06:14:41.848510: I tensorflow/core/common_runtime/process_util.cc:146] Creating new thread pool with default inter op setting: 2. Tune using inter_op_parallelism_threads for best performance.\n"
     ]
    }
   ],
   "source": [
    "options = tf.data.Options()\n",
    "options.experimental_distribute.auto_shard_policy = (\n",
    "    tf.data.experimental.AutoShardPolicy.DATA\n",
    ")\n",
    "options.experimental_optimization.noop_elimination = True\n",
    "options.experimental_optimization.apply_default_optimizations = True\n",
    "options.experimental_optimization.filter_fusion = True\n",
    "\n",
    "df = ImagenetData()\n",
    "tdf = tf.data.Dataset.from_generator(\n",
    "    generator=df.__iter__,\n",
    "    output_types=df.output_types(),\n",
    "    output_shapes=df.output_shapes(),\n",
    ")\n",
    "tdf = tdf.with_options(options)\n",
    "tdf = tdf.batch(512).map(resize_images, num_parallel_calls=tf.data.AUTOTUNE)\n",
    "tdf = tdf.prefetch(tf.data.AUTOTUNE)"
   ]
  },
  {
   "cell_type": "code",
   "execution_count": 8,
   "id": "6dc038ec-ac80-41cf-9c4f-da2a82a98f6c",
   "metadata": {},
   "outputs": [
    {
     "name": "stdout",
     "output_type": "stream",
     "text": [
      "(512, 260, 260, 3)\n",
      "(512,)\n"
     ]
    }
   ],
   "source": [
    "for image_batch, caption_batch in tdf.take(1):\n",
    "    print(image_batch.shape)\n",
    "    print(caption_batch.shape)\n",
    "    break"
   ]
  },
  {
   "cell_type": "code",
   "execution_count": 9,
   "id": "c78827b6-2450-431c-afa0-53be81c07cf0",
   "metadata": {},
   "outputs": [
    {
     "name": "stdout",
     "output_type": "stream",
     "text": [
      "killing <Process(Process-1, started)>\n",
      "killing <Process(Process-2, started)>\n",
      "killing <Process(Process-3, started)>\n",
      "killing <Process(Process-4, started)>\n",
      "killing <Process(Process-5, started)>\n",
      "killing <Process(Process-6, started)>\n",
      "killing <Process(Process-7, started)>\n",
      "killing <Process(Process-8, started)>\n",
      "killing <Process(Process-9, started)>\n",
      "killing <Process(Process-10, started)>\n",
      "killing <Process(Process-11, started)>\n",
      "killing <Process(Process-12, started)>\n",
      "killing <Process(Process-13, started)>\n",
      "killing <Process(Process-14, started)>\n",
      "killing <Process(Process-15, started)>\n",
      "killing <Process(Process-16, started)>\n",
      "closing <zmq.Socket(zmq.PULL) at 0x7fe30c57d910>\n",
      ".\n",
      "CPU times: user 25.1 s, sys: 10.7 s, total: 35.8 s\n",
      "Wall time: 13.6 s\n"
     ]
    }
   ],
   "source": [
    "%%time\n",
    "\n",
    "# Benchmaring for 10 batches.\n",
    "for i, (batch, label) in enumerate(tdf.take(10)):\n",
    "    if i % 40 == 0:\n",
    "        print(\".\", end=\"\")\n",
    "print()"
   ]
  }
 ],
 "metadata": {
  "environment": {
   "kernel": "python3",
   "name": "tf2-gpu.2-7.m87",
   "type": "gcloud",
   "uri": "gcr.io/deeplearning-platform-release/tf2-gpu.2-7:m87"
  },
  "kernelspec": {
   "display_name": "Python 3 (ipykernel)",
   "language": "python",
   "name": "python3"
  },
  "language_info": {
   "codemirror_mode": {
    "name": "ipython",
    "version": 3
   },
   "file_extension": ".py",
   "mimetype": "text/x-python",
   "name": "python",
   "nbconvert_exporter": "python",
   "pygments_lexer": "ipython3",
   "version": "3.8.2"
  }
 },
 "nbformat": 4,
 "nbformat_minor": 5
}
